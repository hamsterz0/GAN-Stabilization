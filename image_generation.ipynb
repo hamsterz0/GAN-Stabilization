{
 "cells": [
  {
   "cell_type": "code",
   "execution_count": 48,
   "metadata": {},
   "outputs": [],
   "source": [
    "#Make a folder of generated images\n",
    "import os\n",
    "from layers import SVDConv2d\n",
    "from gan import Generator, Discriminator, weights_init\n",
    "import torch\n",
    "import matplotlib.pyplot as plt\n",
    "%matplotlib inline\n",
    "import numpy as np\n",
    "import torchvision.utils as vutils\n",
    "import scipy.misc as misc\n"
   ]
  },
  {
   "cell_type": "code",
   "execution_count": 49,
   "metadata": {},
   "outputs": [
    {
     "name": "stderr",
     "output_type": "stream",
     "text": [
      "/Users/tanmay/.virtualenvs/cs269/lib/python3.7/site-packages/ipykernel_launcher.py:8: DeprecationWarning: `imsave` is deprecated!\n",
      "`imsave` is deprecated in SciPy 1.0.0, and will be removed in 1.2.0.\n",
      "Use ``imageio.imwrite`` instead.\n",
      "  \n",
      "/Users/tanmay/.virtualenvs/cs269/lib/python3.7/site-packages/ipykernel_launcher.py:9: DeprecationWarning: `imread` is deprecated!\n",
      "`imread` is deprecated in SciPy 1.0.0, and will be removed in 1.2.0.\n",
      "Use ``imageio.imread`` instead.\n",
      "  if __name__ == '__main__':\n"
     ]
    }
   ],
   "source": [
    "def generate_image(netG, path_to_folder, file_name):\n",
    "    noise = torch.randn(1, 100, 1, 1)\n",
    "    with torch.no_grad():\n",
    "        fake = netG(noise).detach().cpu()\n",
    "        fake = (fake - torch.min(fake))\n",
    "        fake = fake/torch.max(fake)*255\n",
    "    fake_images = np.transpose(fake.squeeze().numpy(),(1,2,0))\n",
    "    misc.imsave(path_to_folder + \"image_\"+str(file_name)+\".png\", fake_images)\n",
    "    im = misc.imread(path_to_folder + \"image_\"+str(file_name)+\".png\")\n",
    "\n",
    "netG = Generator(1, 100, 64, 3)\n",
    "netG.load_state_dict(torch.load('./models/G.pt', map_location=lambda storage, loc: storage))\n",
    "    \n",
    "path = \"./generated_data/\"\n",
    "if not os.path.exists(path):\n",
    "    os.mkdir(path)\n",
    "\n",
    "for i in range(5000):\n",
    "    generate_image(netG, path, i)"
   ]
  },
  {
   "cell_type": "code",
   "execution_count": null,
   "metadata": {},
   "outputs": [],
   "source": []
  }
 ],
 "metadata": {
  "kernelspec": {
   "display_name": "Python 3",
   "language": "python",
   "name": "python3"
  },
  "language_info": {
   "codemirror_mode": {
    "name": "ipython",
    "version": 3
   },
   "file_extension": ".py",
   "mimetype": "text/x-python",
   "name": "python",
   "nbconvert_exporter": "python",
   "pygments_lexer": "ipython3",
   "version": "3.7.2"
  }
 },
 "nbformat": 4,
 "nbformat_minor": 2
}
